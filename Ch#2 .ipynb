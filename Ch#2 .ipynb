{
 "cells": [
  {
   "cell_type": "code",
   "execution_count": 2,
   "metadata": {},
   "outputs": [
    {
     "name": "stdout",
     "output_type": "stream",
     "text": [
      "hello eric\n",
      "I love learning to use Python.\n",
      "It's really satisfying!\n",
      "helloEric,would you like to learn some python?\n",
      "ERIC\n",
      "eric\n",
      "Eric\n",
      "Albert Einstein once said, \"A person who never made a mistake\n",
      "never tried anything new.\"\n",
      "Albert Einstein once said, \"A person who never made a mistake\"\n",
      "Unmodified:\n",
      "Eric\n",
      "\n",
      "Using lstrip():\n",
      "Eric\n",
      "\n",
      "Using rstrip():\n",
      "Eric\n",
      "\n",
      "Using strip():\n",
      "Eric\n",
      "8\n",
      "8\n",
      "8\n",
      "8.0\n",
      "My favorite number is 42.\n",
      "8\n",
      "8\n",
      "8\n",
      "8.0\n"
     ]
    }
   ],
   "source": [
    "\n",
    "# Excercice 2.1 \n",
    "name= \"hello eric\"\n",
    "print(name)\n",
    "# Excercice 2.2\n",
    "msg = \"I love learning to use Python.\"\n",
    "print(msg)\n",
    "\n",
    "msg = \"It's really satisfying!\"\n",
    "print(msg)\n",
    "# Excercice 2.3\n",
    "name='eric'\n",
    "print(\"hello\" +name.title()+ ','+\"would you like to learn some python?\")\n",
    "# Excercice 2.4\n",
    "name=\"Eric\"\n",
    "print(name.upper())\n",
    "print(name.lower())\n",
    "print(name.title())\n",
    "# Excercice 2.5\n",
    "print('Albert Einstein once said, \"A person who never made a mistake')\n",
    "print('never tried anything new.\"')\n",
    "# Excercice 2.6\n",
    "famous_person='Albert Einstein once said, \"A person who never made a mistake\"'\n",
    "message= famous_person\n",
    "print(message)\n",
    "# Excercice 2.7\n",
    "me = \"\\tEric Matthes\\n\"\n",
    "\n",
    "print(\"Unmodified:\")\n",
    "print(name)\n",
    "\n",
    "print(\"\\nUsing lstrip():\")\n",
    "print(name.lstrip())\n",
    "\n",
    "print(\"\\nUsing rstrip():\")\n",
    "print(name.rstrip())\n",
    "\n",
    "print(\"\\nUsing strip():\")\n",
    "print(name.strip())\n",
    "\n",
    "# Excercise 2.8\n",
    "print(5+3)\n",
    "print(16-8)\n",
    "print(4*2)\n",
    "print(16/2)\n",
    "# Excercise 2.9\n",
    "fav_num = 42\n",
    "msg = \"My favorite number is \" + str(fav_num) + \".\"\n",
    "\n",
    "print(msg)\n",
    "# Excercise 2.10\n",
    "# In this program 4 arithmetic operations performing their functions\n",
    "print(5+3)\n",
    "print(16-8)\n",
    "print(4*2)\n",
    "print(16/2)"
   ]
  },
  {
   "cell_type": "code",
   "execution_count": null,
   "metadata": {},
   "outputs": [],
   "source": []
  },
  {
   "cell_type": "code",
   "execution_count": null,
   "metadata": {},
   "outputs": [],
   "source": []
  },
  {
   "cell_type": "code",
   "execution_count": null,
   "metadata": {},
   "outputs": [],
   "source": []
  }
 ],
 "metadata": {
  "interpreter": {
   "hash": "b89b5cfaba6639976dc87ff2fec6d58faec662063367e2c229c520fe71072417"
  },
  "kernelspec": {
   "display_name": "Python 3.10.4 64-bit",
   "language": "python",
   "name": "python3"
  },
  "language_info": {
   "codemirror_mode": {
    "name": "ipython",
    "version": 3
   },
   "file_extension": ".py",
   "mimetype": "text/x-python",
   "name": "python",
   "nbconvert_exporter": "python",
   "pygments_lexer": "ipython3",
   "version": "3.10.4"
  },
  "orig_nbformat": 4
 },
 "nbformat": 4,
 "nbformat_minor": 2
}
